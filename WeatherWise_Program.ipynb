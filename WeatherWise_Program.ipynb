{
  "cells": [
    {
      "cell_type": "markdown",
      "metadata": {
        "id": "view-in-github",
        "colab_type": "text"
      },
      "source": [
        "<a href=\"https://colab.research.google.com/github/Aaaaangla/WeatherWise_Angla_Li/blob/main/WeatherWise_Program.ipynb\" target=\"_parent\"><img src=\"https://colab.research.google.com/assets/colab-badge.svg\" alt=\"Open In Colab\"/></a>"
      ]
    },
    {
      "cell_type": "markdown",
      "id": "9b95b77f",
      "metadata": {
        "id": "9b95b77f"
      },
      "source": [
        "# 🌦️ WeatherWise – Starter Notebook\n",
        "Welcome to **WeatherWise**! This is a weather advisor that provides comprehensive visualisations and supported chat box conversation with your customised AI assistant.\n",
        "\n",
        "还可以添加更多的descriptions。"
      ]
    },
    {
      "cell_type": "markdown",
      "id": "e02b7a55",
      "metadata": {
        "id": "e02b7a55"
      },
      "source": [
        "## 🧰 Setup and Imports\n",
        "\n",
        "This section imports commonly used packages and installs any additional tools used in the project.\n",
        "\n",
        "可以添加更多的descriptions。"
      ]
    },
    {
      "cell_type": "code",
      "execution_count": null,
      "id": "73fadde6",
      "metadata": {
        "scrolled": true,
        "id": "73fadde6",
        "outputId": "4bb02f7f-5f39-4cdc-dc08-97d2f04bc11d"
      },
      "outputs": [
        {
          "name": "stdout",
          "output_type": "stream",
          "text": [
            "Requirement already satisfied: pyinputplus in c:\\users\\angla\\anaconda3\\lib\\site-packages (0.2.12)\n",
            "Requirement already satisfied: pysimplevalidate>=0.2.7 in c:\\users\\angla\\anaconda3\\lib\\site-packages (from pyinputplus) (0.2.12)\n",
            "Requirement already satisfied: stdiomask>=0.0.3 in c:\\users\\angla\\anaconda3\\lib\\site-packages (from pyinputplus) (0.0.6)\n",
            "Collecting gradio\n",
            "  Obtaining dependency information for gradio from https://files.pythonhosted.org/packages/f9/a5/08a02a12331517acd02bfd9e44a940dd141197e2dc527f7a4cfc791268de/gradio-5.46.1-py3-none-any.whl.metadata\n",
            "  Using cached gradio-5.46.1-py3-none-any.whl.metadata (16 kB)\n",
            "Requirement already satisfied: aiofiles<25.0,>=22.0 in c:\\users\\angla\\anaconda3\\lib\\site-packages (from gradio) (22.1.0)\n",
            "Requirement already satisfied: anyio<5.0,>=3.0 in c:\\users\\angla\\anaconda3\\lib\\site-packages (from gradio) (4.10.0)\n",
            "Requirement already satisfied: brotli>=1.1.0 in c:\\users\\angla\\anaconda3\\lib\\site-packages (from gradio) (1.1.0)\n",
            "Collecting fastapi<1.0,>=0.115.2 (from gradio)\n",
            "  Obtaining dependency information for fastapi<1.0,>=0.115.2 from https://files.pythonhosted.org/packages/6d/45/d9d3e8eeefbe93be1c50060a9d9a9f366dba66f288bb518a9566a23a8631/fastapi-0.117.1-py3-none-any.whl.metadata\n",
            "  Using cached fastapi-0.117.1-py3-none-any.whl.metadata (28 kB)\n",
            "Collecting ffmpy (from gradio)\n",
            "  Obtaining dependency information for ffmpy from https://files.pythonhosted.org/packages/74/d4/1806897b31c480efc4e97c22506ac46c716084f573aef780bb7fb7a16e8a/ffmpy-0.6.1-py3-none-any.whl.metadata\n",
            "  Using cached ffmpy-0.6.1-py3-none-any.whl.metadata (2.9 kB)\n",
            "Collecting gradio-client==1.13.1 (from gradio)\n",
            "  Obtaining dependency information for gradio-client==1.13.1 from https://files.pythonhosted.org/packages/9a/02/dd4ecbcf654abc4b969f84def5735b7570224e9590912523b9f3eaf0d741/gradio_client-1.13.1-py3-none-any.whl.metadata\n",
            "  Using cached gradio_client-1.13.1-py3-none-any.whl.metadata (7.1 kB)\n",
            "Collecting groovy~=0.1 (from gradio)\n",
            "  Obtaining dependency information for groovy~=0.1 from https://files.pythonhosted.org/packages/28/27/3d6dcadc8a3214d8522c1e7f6a19554e33659be44546d44a2f7572ac7d2a/groovy-0.1.2-py3-none-any.whl.metadata\n",
            "  Using cached groovy-0.1.2-py3-none-any.whl.metadata (6.1 kB)\n",
            "Requirement already satisfied: httpx<1.0,>=0.24.1 in c:\\users\\angla\\anaconda3\\lib\\site-packages (from gradio) (0.28.1)\n",
            "Collecting huggingface-hub<1.0,>=0.33.5 (from gradio)\n",
            "  Obtaining dependency information for huggingface-hub<1.0,>=0.33.5 from https://files.pythonhosted.org/packages/fe/85/a18508becfa01f1e4351b5e18651b06d210dbd96debccd48a452acccb901/huggingface_hub-0.35.0-py3-none-any.whl.metadata\n",
            "  Using cached huggingface_hub-0.35.0-py3-none-any.whl.metadata (14 kB)\n",
            "Requirement already satisfied: jinja2<4.0 in c:\\users\\angla\\anaconda3\\lib\\site-packages (from gradio) (3.1.6)\n",
            "Requirement already satisfied: markupsafe<4.0,>=2.0 in c:\\users\\angla\\anaconda3\\lib\\site-packages (from gradio) (2.1.1)\n",
            "Requirement already satisfied: numpy<3.0,>=1.0 in c:\\users\\angla\\anaconda3\\lib\\site-packages (from gradio) (1.24.3)\n",
            "Collecting orjson~=3.0 (from gradio)\n",
            "  Obtaining dependency information for orjson~=3.0 from https://files.pythonhosted.org/packages/09/60/db16c6f7a41dd8ac9fb651f66701ff2aeb499ad9ebc15853a26c7c152448/orjson-3.11.3-cp311-cp311-win_amd64.whl.metadata\n",
            "  Using cached orjson-3.11.3-cp311-cp311-win_amd64.whl.metadata (43 kB)\n",
            "Requirement already satisfied: packaging in c:\\users\\angla\\anaconda3\\lib\\site-packages (from gradio) (23.0)\n",
            "Requirement already satisfied: pandas<3.0,>=1.0 in c:\\users\\angla\\anaconda3\\lib\\site-packages (from gradio) (1.5.3)\n",
            "Requirement already satisfied: pillow<12.0,>=8.0 in c:\\users\\angla\\anaconda3\\lib\\site-packages (from gradio) (9.4.0)\n",
            "Requirement already satisfied: pydantic<2.12,>=2.0 in c:\\users\\angla\\anaconda3\\lib\\site-packages (from gradio) (2.11.7)\n",
            "Requirement already satisfied: pydub in c:\\users\\angla\\anaconda3\\lib\\site-packages (from gradio) (0.25.1)\n",
            "Requirement already satisfied: python-multipart>=0.0.18 in c:\\users\\angla\\anaconda3\\lib\\site-packages (from gradio) (0.0.20)\n",
            "Requirement already satisfied: pyyaml<7.0,>=5.0 in c:\\users\\angla\\anaconda3\\lib\\site-packages (from gradio) (6.0)\n",
            "Collecting ruff>=0.9.3 (from gradio)\n",
            "  Obtaining dependency information for ruff>=0.9.3 from https://files.pythonhosted.org/packages/64/51/c6a3a33d9938007b8bdc8ca852ecc8d810a407fb513ab08e34af12dc7c24/ruff-0.13.1-py3-none-win_amd64.whl.metadata\n",
            "  Using cached ruff-0.13.1-py3-none-win_amd64.whl.metadata (26 kB)\n",
            "Collecting safehttpx<0.2.0,>=0.1.6 (from gradio)\n",
            "  Obtaining dependency information for safehttpx<0.2.0,>=0.1.6 from https://files.pythonhosted.org/packages/4d/c0/1108ad9f01567f66b3154063605b350b69c3c9366732e09e45f9fd0d1deb/safehttpx-0.1.6-py3-none-any.whl.metadata\n",
            "  Using cached safehttpx-0.1.6-py3-none-any.whl.metadata (4.2 kB)\n",
            "Collecting semantic-version~=2.0 (from gradio)\n",
            "  Obtaining dependency information for semantic-version~=2.0 from https://files.pythonhosted.org/packages/6a/23/8146aad7d88f4fcb3a6218f41a60f6c2d4e3a72de72da1825dc7c8f7877c/semantic_version-2.10.0-py2.py3-none-any.whl.metadata\n",
            "  Using cached semantic_version-2.10.0-py2.py3-none-any.whl.metadata (9.7 kB)\n",
            "Requirement already satisfied: starlette<1.0,>=0.40.0 in c:\\users\\angla\\anaconda3\\lib\\site-packages (from gradio) (0.47.3)\n",
            "Collecting tomlkit<0.14.0,>=0.12.0 (from gradio)\n",
            "  Obtaining dependency information for tomlkit<0.14.0,>=0.12.0 from https://files.pythonhosted.org/packages/bd/75/8539d011f6be8e29f339c42e633aae3cb73bffa95dd0f9adec09b9c58e85/tomlkit-0.13.3-py3-none-any.whl.metadata\n",
            "  Using cached tomlkit-0.13.3-py3-none-any.whl.metadata (2.8 kB)\n",
            "Requirement already satisfied: typer<1.0,>=0.12 in c:\\users\\angla\\anaconda3\\lib\\site-packages (from gradio) (0.17.4)\n",
            "Requirement already satisfied: typing-extensions~=4.0 in c:\\users\\angla\\anaconda3\\lib\\site-packages (from gradio) (4.15.0)\n",
            "Requirement already satisfied: uvicorn>=0.14.0 in c:\\users\\angla\\anaconda3\\lib\\site-packages (from gradio) (0.35.0)\n",
            "Requirement already satisfied: fsspec in c:\\users\\angla\\anaconda3\\lib\\site-packages (from gradio-client==1.13.1->gradio) (2023.3.0)\n",
            "Requirement already satisfied: websockets<16.0,>=10.0 in c:\\users\\angla\\anaconda3\\lib\\site-packages (from gradio-client==1.13.1->gradio) (15.0.1)\n",
            "Requirement already satisfied: idna>=2.8 in c:\\users\\angla\\anaconda3\\lib\\site-packages (from anyio<5.0,>=3.0->gradio) (3.4)\n",
            "Requirement already satisfied: sniffio>=1.1 in c:\\users\\angla\\anaconda3\\lib\\site-packages (from anyio<5.0,>=3.0->gradio) (1.2.0)\n",
            "Requirement already satisfied: certifi in c:\\users\\angla\\anaconda3\\lib\\site-packages (from httpx<1.0,>=0.24.1->gradio) (2024.8.30)\n",
            "Requirement already satisfied: httpcore==1.* in c:\\users\\angla\\anaconda3\\lib\\site-packages (from httpx<1.0,>=0.24.1->gradio) (1.0.9)\n",
            "Requirement already satisfied: h11>=0.16 in c:\\users\\angla\\anaconda3\\lib\\site-packages (from httpcore==1.*->httpx<1.0,>=0.24.1->gradio) (0.16.0)\n",
            "Requirement already satisfied: filelock in c:\\users\\angla\\anaconda3\\lib\\site-packages (from huggingface-hub<1.0,>=0.33.5->gradio) (3.9.0)\n",
            "Collecting fsspec (from gradio-client==1.13.1->gradio)\n",
            "  Obtaining dependency information for fsspec from https://files.pythonhosted.org/packages/47/71/70db47e4f6ce3e5c37a607355f80da8860a33226be640226ac52cb05ef2e/fsspec-2025.9.0-py3-none-any.whl.metadata\n",
            "  Using cached fsspec-2025.9.0-py3-none-any.whl.metadata (10 kB)\n",
            "Requirement already satisfied: requests in c:\\users\\angla\\anaconda3\\lib\\site-packages (from huggingface-hub<1.0,>=0.33.5->gradio) (2.32.5)\n",
            "Requirement already satisfied: tqdm>=4.42.1 in c:\\users\\angla\\anaconda3\\lib\\site-packages (from huggingface-hub<1.0,>=0.33.5->gradio) (4.65.0)\n",
            "Requirement already satisfied: python-dateutil>=2.8.1 in c:\\users\\angla\\anaconda3\\lib\\site-packages (from pandas<3.0,>=1.0->gradio) (2.8.2)\n",
            "Requirement already satisfied: pytz>=2020.1 in c:\\users\\angla\\anaconda3\\lib\\site-packages (from pandas<3.0,>=1.0->gradio) (2022.7)\n",
            "Requirement already satisfied: annotated-types>=0.6.0 in c:\\users\\angla\\anaconda3\\lib\\site-packages (from pydantic<2.12,>=2.0->gradio) (0.7.0)\n",
            "Requirement already satisfied: pydantic-core==2.33.2 in c:\\users\\angla\\anaconda3\\lib\\site-packages (from pydantic<2.12,>=2.0->gradio) (2.33.2)\n",
            "Requirement already satisfied: typing-inspection>=0.4.0 in c:\\users\\angla\\anaconda3\\lib\\site-packages (from pydantic<2.12,>=2.0->gradio) (0.4.1)\n",
            "Requirement already satisfied: click>=8.0.0 in c:\\users\\angla\\anaconda3\\lib\\site-packages (from typer<1.0,>=0.12->gradio) (8.0.4)\n",
            "Requirement already satisfied: shellingham>=1.3.0 in c:\\users\\angla\\anaconda3\\lib\\site-packages (from typer<1.0,>=0.12->gradio) (1.5.4)\n",
            "Requirement already satisfied: rich>=10.11.0 in c:\\users\\angla\\anaconda3\\lib\\site-packages (from typer<1.0,>=0.12->gradio) (13.9.2)\n",
            "Requirement already satisfied: colorama in c:\\users\\angla\\anaconda3\\lib\\site-packages (from click>=8.0.0->typer<1.0,>=0.12->gradio) (0.4.6)\n",
            "Requirement already satisfied: six>=1.5 in c:\\users\\angla\\anaconda3\\lib\\site-packages (from python-dateutil>=2.8.1->pandas<3.0,>=1.0->gradio) (1.16.0)\n",
            "Requirement already satisfied: markdown-it-py>=2.2.0 in c:\\users\\angla\\anaconda3\\lib\\site-packages (from rich>=10.11.0->typer<1.0,>=0.12->gradio) (2.2.0)\n",
            "Requirement already satisfied: pygments<3.0.0,>=2.13.0 in c:\\users\\angla\\anaconda3\\lib\\site-packages (from rich>=10.11.0->typer<1.0,>=0.12->gradio) (2.15.1)\n",
            "Requirement already satisfied: charset_normalizer<4,>=2 in c:\\users\\angla\\anaconda3\\lib\\site-packages (from requests->huggingface-hub<1.0,>=0.33.5->gradio) (2.0.4)\n",
            "Requirement already satisfied: urllib3<3,>=1.21.1 in c:\\users\\angla\\anaconda3\\lib\\site-packages (from requests->huggingface-hub<1.0,>=0.33.5->gradio) (1.26.16)\n",
            "Requirement already satisfied: mdurl~=0.1 in c:\\users\\angla\\anaconda3\\lib\\site-packages (from markdown-it-py>=2.2.0->rich>=10.11.0->typer<1.0,>=0.12->gradio) (0.1.0)\n",
            "Using cached gradio-5.46.1-py3-none-any.whl (60.4 MB)\n",
            "Using cached gradio_client-1.13.1-py3-none-any.whl (325 kB)\n",
            "Using cached fastapi-0.117.1-py3-none-any.whl (95 kB)\n",
            "Using cached groovy-0.1.2-py3-none-any.whl (14 kB)\n",
            "Using cached huggingface_hub-0.35.0-py3-none-any.whl (563 kB)\n",
            "Using cached orjson-3.11.3-cp311-cp311-win_amd64.whl (131 kB)\n",
            "Using cached ruff-0.13.1-py3-none-win_amd64.whl (13.3 MB)\n",
            "Using cached safehttpx-0.1.6-py3-none-any.whl (8.7 kB)\n",
            "Using cached semantic_version-2.10.0-py2.py3-none-any.whl (15 kB)\n",
            "Using cached tomlkit-0.13.3-py3-none-any.whl (38 kB)\n",
            "Using cached ffmpy-0.6.1-py3-none-any.whl (5.5 kB)\n",
            "Using cached fsspec-2025.9.0-py3-none-any.whl (199 kB)\n",
            "Installing collected packages: tomlkit, semantic-version, ruff, orjson, groovy, fsspec, ffmpy, huggingface-hub, safehttpx, gradio-client, fastapi, gradio\n",
            "  Attempting uninstall: tomlkit\n",
            "    Found existing installation: tomlkit 0.11.1\n",
            "    Uninstalling tomlkit-0.11.1:\n",
            "      Successfully uninstalled tomlkit-0.11.1\n",
            "  Attempting uninstall: fsspec\n",
            "    Found existing installation: fsspec 2023.3.0\n",
            "    Uninstalling fsspec-2023.3.0:\n",
            "      Successfully uninstalled fsspec-2023.3.0\n",
            "Successfully installed fastapi-0.117.1 ffmpy-0.6.1 fsspec-2025.9.0 gradio-5.46.1 gradio-client-1.13.1 groovy-0.1.2 huggingface-hub-0.35.0 orjson-3.11.3 ruff-0.13.1 safehttpx-0.1.6 semantic-version-2.10.0 tomlkit-0.13.3\n"
          ]
        },
        {
          "name": "stderr",
          "output_type": "stream",
          "text": [
            "ERROR: pip's dependency resolver does not currently take into account all the packages that are installed. This behaviour is the source of the following dependency conflicts.\n",
            "s3fs 2023.3.0 requires fsspec==2023.3.0, but you have fsspec 2025.9.0 which is incompatible.\n"
          ]
        }
      ],
      "source": [
        "!pip install pyinputplus\n",
        "!pip install gradio"
      ]
    },
    {
      "cell_type": "code",
      "execution_count": null,
      "id": "c0409a2e",
      "metadata": {
        "id": "c0409a2e",
        "outputId": "fcba509c-d823-4975-8886-c73a530639fb"
      },
      "outputs": [
        {
          "name": "stdout",
          "output_type": "stream",
          "text": [
            "Enter your OpenWeatherMap API key: fb1582724c9b13d13d1b7420b360c14e\n"
          ]
        }
      ],
      "source": [
        "import os\n",
        "\n",
        "# Prompt user to enter their API key\n",
        "os.environ[\"OPENWEATHER_API_KEY\"] = input(\"Enter your OpenWeatherMap API key: \")\n",
        "API_KEY = os.environ[\"OPENWEATHER_API_KEY\"]"
      ]
    },
    {
      "cell_type": "markdown",
      "id": "0a173558",
      "metadata": {
        "id": "0a173558"
      },
      "source": [
        "## 📦 Setup and Configuration\n",
        "Import required packages and setup environment.\n",
        "稍微改一下description。"
      ]
    },
    {
      "cell_type": "code",
      "execution_count": null,
      "id": "54cabc55",
      "metadata": {
        "id": "54cabc55"
      },
      "outputs": [],
      "source": [
        "import requests\n",
        "import pandas as pd\n",
        "\n",
        "# Graphs\n",
        "import matplotlib.pyplot as plt\n",
        "import seaborn as sns\n",
        "\n",
        "# Chatbot\n",
        "import re\n",
        "import nltk\n",
        "\n",
        "# UI design\n",
        "from ipywidgets import VBox, HBox, Dropdown, Button, Output\n",
        "import gradio as gr\n",
        "import pyinputplus as pyip"
      ]
    },
    {
      "cell_type": "code",
      "execution_count": null,
      "id": "ff04fef4",
      "metadata": {
        "id": "ff04fef4"
      },
      "outputs": [],
      "source": [
        "# Reduce repeat updates if the API doman ever changes\n",
        "API_BASE = 'https://api.openweathermap.org'\n",
        "\n",
        "# Ensure consistent units\n",
        "UNITS = 'metric' # Celsius (°C), meters/second (m/s)\n",
        "\n",
        "# Prevent reuqest long request time\n",
        "DEFAULT_TIMEOUT = 10 # seconds"
      ]
    },
    {
      "cell_type": "code",
      "execution_count": null,
      "id": "a97143ee",
      "metadata": {
        "id": "a97143ee",
        "outputId": "b7f7b417-6986-41ab-a123-aa90ab25d481"
      },
      "outputs": [
        {
          "name": "stderr",
          "output_type": "stream",
          "text": [
            "[nltk_data] Downloading package punkt to\n",
            "[nltk_data]     C:\\Users\\angla\\AppData\\Roaming\\nltk_data...\n",
            "[nltk_data]   Unzipping tokenizers\\punkt.zip.\n"
          ]
        }
      ],
      "source": [
        "# Brief test for nltk\n",
        "try:\n",
        "    nltk.data.find('tokenizers/punkt')\n",
        "except LookupError:\n",
        "    nltk.download('punkt')"
      ]
    },
    {
      "cell_type": "code",
      "execution_count": null,
      "id": "2634714c",
      "metadata": {
        "id": "2634714c",
        "outputId": "b1dc96de-1b97-4bf4-8c21-2fb69702c502"
      },
      "outputs": [
        {
          "name": "stdout",
          "output_type": "stream",
          "text": [
            "OK: Perth - clear sky\n"
          ]
        }
      ],
      "source": [
        "# Smoke test for vertify the correction of API key, network connection, and API server\n",
        "def _smoke_test(city=\"Sydney\"):\n",
        "    key = os.environ.get(\"OPENWEATHER_API_KEY\")\n",
        "    assert key, \"OPENWEATHER_API_KEY not set\"\n",
        "    r = requests.get(\n",
        "        f\"{API_BASE}/data/2.5/weather\",\n",
        "        params={\"q\": city, \"appid\": key, \"units\": UNITS},\n",
        "        timeout=DEFAULT_TIMEOUT\n",
        "    )\n",
        "    r.raise_for_status()\n",
        "    data = r.json()\n",
        "    print(\"OK:\", data[\"name\"], \"-\", data[\"weather\"][0][\"description\"])\n",
        "\n",
        "_smoke_test('Perth')"
      ]
    },
    {
      "cell_type": "markdown",
      "id": "3c208e0c",
      "metadata": {
        "id": "3c208e0c"
      },
      "source": [
        "## 🌤️ Weather Data Functions\n",
        "写一点description在这里。"
      ]
    },
    {
      "cell_type": "markdown",
      "id": "90dd3763",
      "metadata": {
        "id": "90dd3763"
      },
      "source": [
        "##### Logic for get_weather_data(location, forecast_days=5)\n",
        "1. Read API Key and constants.\n",
        "    - the API key, API_BASE, UNITS, DEFAULT_TIMEOUT\n",
        "2. Validate input\n",
        "    - the forecast day is between 1 - 5; if false, show ValueError\n",
        "3. Request current weather\n",
        "    - /data/2.5/weather is the endpoint, with parameters, may need extract temperature, description, humidity, wind speed, etc.\n",
        "4. Request forecast data\n",
        "    - /data/2.5/forecast is the endpoint (3-hourly forecast) and keep only forecast_days worth of data\n",
        "5. Format results into dictionary\n",
        "6. Handle errors gracefull\n",
        "    - Use try/except for network errors (requests.exceptions), and raise clear messages if API key is missing or location is invalid."
      ]
    },
    {
      "cell_type": "code",
      "execution_count": null,
      "id": "bdfad16b",
      "metadata": {
        "id": "bdfad16b"
      },
      "outputs": [],
      "source": [
        "def get_weather_data(location, forecast_days=5):\n",
        "    \"\"\"\n",
        "    Retrieve weather data for a specified location.\n",
        "\n",
        "    Args:\n",
        "        location (str): City or location name\n",
        "        forecast_days (int): Number of days to forecast (1-5)\n",
        "\n",
        "    Returns:\n",
        "        dict: Weather data including current conditions and forecast\n",
        "    \"\"\"\n",
        "    pass"
      ]
    },
    {
      "cell_type": "code",
      "execution_count": null,
      "id": "87790cb6",
      "metadata": {
        "id": "87790cb6"
      },
      "outputs": [],
      "source": [
        "import os\n",
        "import requests\n",
        "from collections import Counter, defaultdict\n",
        "from datetime import datetime\n",
        "import pandas as pd  # optional, only needed for the to_dataframe helper\n",
        "\n",
        "API_BASE = 'https://api.openweathermap.org'\n",
        "UNITS = 'metric'          # °C, m/s\n",
        "DEFAULT_TIMEOUT = 10      # seconds\n",
        "\n",
        "\n",
        "class WeatherError(RuntimeError):\n",
        "    \"\"\"Raised for predictable, user-facing weather errors.\"\"\"\n",
        "\n",
        "\n",
        "def _get_api_key() -> str:\n",
        "    key = os.environ.get(\"OPENWEATHER_API_KEY\")\n",
        "    if not key:\n",
        "        raise WeatherError(\"OPENWEATHER_API_KEY not set. Please set it in the environment.\")\n",
        "    return key\n",
        "\n",
        "\n",
        "def _fetch_json(path: str, params: dict) -> dict:\n",
        "    \"\"\"Minimal wrapper around requests with good messages.\"\"\"\n",
        "    url = f\"{API_BASE}{path}\"\n",
        "    try:\n",
        "        r = requests.get(url, params=params, timeout=DEFAULT_TIMEOUT)\n",
        "        r.raise_for_status()\n",
        "        data = r.json()\n",
        "        # OpenWeather sometimes returns 200 with a message; guard for that:\n",
        "        if isinstance(data, dict) and data.get(\"cod\") not in (200, \"200\"):\n",
        "            # e.g., {\"cod\":\"404\",\"message\":\"city not found\"}\n",
        "            raise WeatherError(f\"API error ({data.get('cod')}): {data.get('message')}\")\n",
        "        return data\n",
        "    except requests.exceptions.RequestException as e:\n",
        "        raise WeatherError(f\"Network/API request failed: {e}\") from e\n",
        "\n",
        "\n",
        "def _summarize_forecast_by_day(items, tz_offset_seconds: int):\n",
        "    \"\"\"\n",
        "    items: list of 3-hour forecast entries as returned by /forecast\n",
        "    tz_offset_seconds: timezone shift for the location (from 'city.timezone')\n",
        "    \"\"\"\n",
        "    # bucket entries by local calendar day\n",
        "    buckets = defaultdict(list)\n",
        "    for row in items:\n",
        "        # dt is UTC seconds; shift to local then take date\n",
        "        local_dt = datetime.utcfromtimestamp(row[\"dt\"] + tz_offset_seconds)\n",
        "        day_key = local_dt.date().isoformat()\n",
        "        buckets[day_key].append(row)\n",
        "\n",
        "    summaries = []\n",
        "    for day, rows in sorted(buckets.items()):\n",
        "        temps = [r[\"main\"][\"temp\"] for r in rows]\n",
        "        tmins = [r[\"main\"][\"temp_min\"] for r in rows]\n",
        "        tmaxs = [r[\"main\"][\"temp_max\"] for r in rows]\n",
        "        hums = [r[\"main\"][\"humidity\"] for r in rows]\n",
        "        winds = [r[\"wind\"][\"speed\"] for r in rows]\n",
        "\n",
        "        # most frequent weather description of the day\n",
        "        descs = [r[\"weather\"][0][\"description\"] for r in rows if r.get(\"weather\")]\n",
        "        common_desc = Counter(descs).most_common(1)[0][0] if descs else \"\"\n",
        "\n",
        "        # precipitation volume in mm (rain/snow fields are optional)\n",
        "        def get_mm(r, field):\n",
        "            return float(r.get(field, {}).get(\"3h\", 0.0))\n",
        "        rain_mm = sum(get_mm(r, \"rain\") for r in rows)\n",
        "        snow_mm = sum(get_mm(r, \"snow\") for r in rows)\n",
        "\n",
        "        summaries.append({\n",
        "            \"date\": day,\n",
        "            \"temp_min\": round(min(tmins), 1),\n",
        "            \"temp_max\": round(max(tmaxs), 1),\n",
        "            \"temp_avg\": round(sum(temps)/len(temps), 1),\n",
        "            \"humidity_avg\": round(sum(hums)/len(hums), 0),\n",
        "            \"wind_avg\": round(sum(winds)/len(winds), 1),\n",
        "            \"description\": common_desc,\n",
        "            \"rain_mm\": round(rain_mm, 1),\n",
        "            \"snow_mm\": round(snow_mm, 1),\n",
        "        })\n",
        "    return summaries\n",
        "\n",
        "\n",
        "def get_weather_data(location: str, forecast_days: int = 5) -> dict:\n",
        "    \"\"\"\n",
        "    Retrieve weather data for a specified location.\n",
        "\n",
        "    Args:\n",
        "        location (str): City or location name (e.g., \"Perth\", \"Sydney,AU\").\n",
        "        forecast_days (int): Number of days of forecast to return (1–5 for free tier).\n",
        "\n",
        "    Returns:\n",
        "        dict: {\n",
        "          \"location\": str,\n",
        "          \"coords\": {\"lat\": float, \"lon\": float},\n",
        "          \"current\": {...},\n",
        "          \"forecast\": [ {date, temp_min, temp_max, ...}, ... up to forecast_days ]\n",
        "        }\n",
        "    \"\"\"\n",
        "    if not (1 <= int(forecast_days) <= 5):\n",
        "        raise WeatherError(\"forecast_days must be between 1 and 5 for the free 5-day/3-hour API.\")\n",
        "\n",
        "    key = _get_api_key()\n",
        "\n",
        "    # 1) current conditions\n",
        "    current = _fetch_json(\n",
        "        \"/data/2.5/weather\",\n",
        "        {\"q\": location, \"appid\": key, \"units\": UNITS}\n",
        "    )\n",
        "    city_name = current.get(\"name\", location)\n",
        "    coord = current.get(\"coord\", {})\n",
        "    tz_offset = current.get(\"timezone\", 0)\n",
        "\n",
        "    current_block = {\n",
        "        \"temperature\": current[\"main\"][\"temp\"],\n",
        "        \"feels_like\": current[\"main\"][\"feels_like\"],\n",
        "        \"temp_min\": current[\"main\"][\"temp_min\"],\n",
        "        \"temp_max\": current[\"main\"][\"temp_max\"],\n",
        "        \"pressure\": current[\"main\"][\"pressure\"],\n",
        "        \"humidity\": current[\"main\"][\"humidity\"],\n",
        "        \"wind_speed\": current[\"wind\"][\"speed\"],\n",
        "        \"clouds_pct\": current.get(\"clouds\", {}).get(\"all\", 0),\n",
        "        \"description\": current[\"weather\"][0][\"description\"] if current.get(\"weather\") else \"\",\n",
        "        \"observed_at_utc\": datetime.utcfromtimestamp(current[\"dt\"]).isoformat() + \"Z\",\n",
        "    }\n",
        "\n",
        "    # 2) forecast (3-hr steps → summarize by day)\n",
        "    forecast_raw = _fetch_json(\n",
        "        \"/data/2.5/forecast\",\n",
        "        {\"q\": location, \"appid\": key, \"units\": UNITS}\n",
        "    )\n",
        "    city_block = forecast_raw.get(\"city\", {})\n",
        "    tz_offset = city_block.get(\"timezone\", tz_offset)  # prefer forecast's city timezone\n",
        "    daily = _summarize_forecast_by_day(forecast_raw.get(\"list\", []), tz_offset_seconds=tz_offset)\n",
        "\n",
        "    result = {\n",
        "        \"location\": city_name,\n",
        "        \"coords\": {\"lat\": coord.get(\"lat\", city_block.get(\"coord\", {}).get(\"lat\")),\n",
        "                   \"lon\": coord.get(\"lon\", city_block.get(\"coord\", {}).get(\"lon\"))},\n",
        "        \"timezone_shift_seconds\": tz_offset,\n",
        "        \"current\": current_block,\n",
        "        \"forecast\": daily[:forecast_days],\n",
        "    }\n",
        "    return result\n",
        "\n",
        "\n",
        "# ------- Optional helpers (handy in notebooks/UIs) -------\n",
        "\n",
        "def weather_to_dataframe(weather_dict: dict) -> pd.DataFrame:\n",
        "    \"\"\"Convert the forecast list into a DataFrame for quick plotting/display.\"\"\"\n",
        "    return pd.DataFrame(weather_dict[\"forecast\"])\n",
        "\n",
        "\n",
        "def pretty_print_weather(weather_dict: dict):\n",
        "    \"\"\"Tiny text view for debugging.\"\"\"\n",
        "    loc = weather_dict[\"location\"]\n",
        "    cur = weather_dict[\"current\"]\n",
        "    print(f\"{loc}: {cur['description']} | {cur['temperature']}°C \"\n",
        "          f\"(feels {cur['feels_like']}°C), wind {cur['wind_speed']} m/s\")\n",
        "    for d in weather_dict[\"forecast\"]:\n",
        "        print(f\"  {d['date']}: {d['description']} \"\n",
        "              f\"{d['temp_min']}–{d['temp_max']}°C, \"\n",
        "              f\"rain {d['rain_mm']} mm, wind ~{d['wind_avg']} m/s\")\n"
      ]
    },
    {
      "cell_type": "code",
      "execution_count": null,
      "id": "3bbfa999",
      "metadata": {
        "id": "3bbfa999",
        "outputId": "294e15b4-54c9-4196-9456-6fda437f0f80"
      },
      "outputs": [
        {
          "name": "stdout",
          "output_type": "stream",
          "text": [
            "Perth: clear sky | 22.29°C (feels 22.06°C), wind 3.35 m/s\n",
            "  2025-09-21: clear sky 17.1–22.5°C, rain 0.0 mm, wind ~3.4 m/s\n",
            "  2025-09-22: clear sky 13.6–24.4°C, rain 0.0 mm, wind ~4.4 m/s\n",
            "  2025-09-23: clear sky 15.8–25.5°C, rain 0.0 mm, wind ~4.1 m/s\n",
            "  2025-09-24: scattered clouds 16.9–25.9°C, rain 0.0 mm, wind ~2.9 m/s\n",
            "  2025-09-25: overcast clouds 17.0–22.3°C, rain 0.0 mm, wind ~3.6 m/s\n"
          ]
        },
        {
          "data": {
            "text/html": [
              "<div>\n",
              "<style scoped>\n",
              "    .dataframe tbody tr th:only-of-type {\n",
              "        vertical-align: middle;\n",
              "    }\n",
              "\n",
              "    .dataframe tbody tr th {\n",
              "        vertical-align: top;\n",
              "    }\n",
              "\n",
              "    .dataframe thead th {\n",
              "        text-align: right;\n",
              "    }\n",
              "</style>\n",
              "<table border=\"1\" class=\"dataframe\">\n",
              "  <thead>\n",
              "    <tr style=\"text-align: right;\">\n",
              "      <th></th>\n",
              "      <th>date</th>\n",
              "      <th>temp_min</th>\n",
              "      <th>temp_max</th>\n",
              "      <th>temp_avg</th>\n",
              "      <th>humidity_avg</th>\n",
              "      <th>wind_avg</th>\n",
              "      <th>description</th>\n",
              "      <th>rain_mm</th>\n",
              "      <th>snow_mm</th>\n",
              "    </tr>\n",
              "  </thead>\n",
              "  <tbody>\n",
              "    <tr>\n",
              "      <th>0</th>\n",
              "      <td>2025-09-21</td>\n",
              "      <td>17.1</td>\n",
              "      <td>22.5</td>\n",
              "      <td>20.9</td>\n",
              "      <td>59.0</td>\n",
              "      <td>3.4</td>\n",
              "      <td>clear sky</td>\n",
              "      <td>0.0</td>\n",
              "      <td>0.0</td>\n",
              "    </tr>\n",
              "    <tr>\n",
              "      <th>1</th>\n",
              "      <td>2025-09-22</td>\n",
              "      <td>13.6</td>\n",
              "      <td>24.4</td>\n",
              "      <td>19.0</td>\n",
              "      <td>50.0</td>\n",
              "      <td>4.4</td>\n",
              "      <td>clear sky</td>\n",
              "      <td>0.0</td>\n",
              "      <td>0.0</td>\n",
              "    </tr>\n",
              "    <tr>\n",
              "      <th>2</th>\n",
              "      <td>2025-09-23</td>\n",
              "      <td>15.8</td>\n",
              "      <td>25.5</td>\n",
              "      <td>20.5</td>\n",
              "      <td>46.0</td>\n",
              "      <td>4.1</td>\n",
              "      <td>clear sky</td>\n",
              "      <td>0.0</td>\n",
              "      <td>0.0</td>\n",
              "    </tr>\n",
              "    <tr>\n",
              "      <th>3</th>\n",
              "      <td>2025-09-24</td>\n",
              "      <td>16.9</td>\n",
              "      <td>25.9</td>\n",
              "      <td>21.4</td>\n",
              "      <td>44.0</td>\n",
              "      <td>2.9</td>\n",
              "      <td>scattered clouds</td>\n",
              "      <td>0.0</td>\n",
              "      <td>0.0</td>\n",
              "    </tr>\n",
              "    <tr>\n",
              "      <th>4</th>\n",
              "      <td>2025-09-25</td>\n",
              "      <td>17.0</td>\n",
              "      <td>22.3</td>\n",
              "      <td>19.5</td>\n",
              "      <td>59.0</td>\n",
              "      <td>3.6</td>\n",
              "      <td>overcast clouds</td>\n",
              "      <td>0.0</td>\n",
              "      <td>0.0</td>\n",
              "    </tr>\n",
              "  </tbody>\n",
              "</table>\n",
              "</div>"
            ],
            "text/plain": [
              "         date  temp_min  temp_max  temp_avg  humidity_avg  wind_avg  \\\n",
              "0  2025-09-21      17.1      22.5      20.9          59.0       3.4   \n",
              "1  2025-09-22      13.6      24.4      19.0          50.0       4.4   \n",
              "2  2025-09-23      15.8      25.5      20.5          46.0       4.1   \n",
              "3  2025-09-24      16.9      25.9      21.4          44.0       2.9   \n",
              "4  2025-09-25      17.0      22.3      19.5          59.0       3.6   \n",
              "\n",
              "        description  rain_mm  snow_mm  \n",
              "0         clear sky      0.0      0.0  \n",
              "1         clear sky      0.0      0.0  \n",
              "2         clear sky      0.0      0.0  \n",
              "3  scattered clouds      0.0      0.0  \n",
              "4   overcast clouds      0.0      0.0  "
            ]
          },
          "execution_count": 12,
          "metadata": {},
          "output_type": "execute_result"
        }
      ],
      "source": [
        "data = get_weather_data(\"Perth\", forecast_days=5)\n",
        "pretty_print_weather(data)\n",
        "\n",
        "df = weather_to_dataframe(data)\n",
        "df  # or plot df[\"date\"] vs df[\"temp_max\"] with matplotlib"
      ]
    }
  ],
  "metadata": {
    "kernelspec": {
      "display_name": "Python 3 (ipykernel)",
      "language": "python",
      "name": "python3"
    },
    "language_info": {
      "codemirror_mode": {
        "name": "ipython",
        "version": 3
      },
      "file_extension": ".py",
      "mimetype": "text/x-python",
      "name": "python",
      "nbconvert_exporter": "python",
      "pygments_lexer": "ipython3",
      "version": "3.11.4"
    },
    "colab": {
      "provenance": [],
      "include_colab_link": true
    }
  },
  "nbformat": 4,
  "nbformat_minor": 5
}